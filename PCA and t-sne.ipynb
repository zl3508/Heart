{
 "cells": [
  {
   "cell_type": "markdown",
   "metadata": {
    "id": "djvjR3oBnI5h"
   },
   "source": [
    "## 0. Import Library"
   ]
  },
  {
   "cell_type": "code",
   "execution_count": null,
   "metadata": {
    "colab": {
     "base_uri": "https://localhost:8080/"
    },
    "executionInfo": {
     "elapsed": 6997,
     "status": "ok",
     "timestamp": 1738292622407,
     "user": {
      "displayName": "Rin Mo",
      "userId": "08429543951334931283"
     },
     "user_tz": -480
    },
    "id": "opBnEEkgncoJ",
    "outputId": "2312b5c7-3803-4eae-95e1-d0df67fd0dac"
   },
   "outputs": [],
   "source": [
    "! pip install category_encoders"
   ]
  },
  {
   "cell_type": "code",
   "execution_count": 2,
   "metadata": {
    "executionInfo": {
     "elapsed": 4422,
     "status": "ok",
     "timestamp": 1738292613982,
     "user": {
      "displayName": "Rin Mo",
      "userId": "08429543951334931283"
     },
     "user_tz": -480
    },
    "id": "GwNT1gRCnfkW"
   },
   "outputs": [],
   "source": [
    "# data analysis related library\n",
    "import pandas as pd\n",
    "import numpy as np\n",
    "\n",
    "# some visualization related library\n",
    "import matplotlib.pyplot as plt\n",
    "import matplotlib\n",
    "%matplotlib inline\n",
    "from matplotlib.colors import LogNorm\n",
    "import seaborn as sns\n",
    "\n",
    "# category_encoders and warning related library\n",
    "from warnings import simplefilter\n",
    "simplefilter(action='ignore')\n",
    "import category_encoders\n",
    "\n",
    "# sklearn related ML library\n",
    "from sklearn import metrics\n",
    "from sklearn.metrics import roc_curve, RocCurveDisplay\n",
    "from sklearn.metrics import mean_absolute_error\n",
    "from sklearn.utils import resample\n",
    "from sklearn.preprocessing import LabelEncoder\n",
    "from sklearn.preprocessing import MinMaxScaler\n",
    "from sklearn.tree import DecisionTreeClassifier\n",
    "from sklearn.neighbors import KNeighborsClassifier\n",
    "from sklearn.model_selection import train_test_split\n",
    "from sklearn.model_selection import GridSearchCV\n",
    "from sklearn.model_selection import KFold\n",
    "from sklearn.model_selection import cross_val_score\n",
    "from sklearn import model_selection\n",
    "from sklearn.ensemble import BaggingClassifier\n",
    "from sklearn.ensemble import RandomForestClassifier\n",
    "from sklearn.ensemble import VotingClassifier\n",
    "from sklearn.ensemble import GradientBoostingClassifier\n",
    "from sklearn.linear_model import LogisticRegression\n",
    "from sklearn.naive_bayes import BernoulliNB\n",
    "from sklearn.preprocessing import StandardScaler\n",
    "from sklearn.metrics import auc\n",
    "from sklearn.base import BaseEstimator, ClassifierMixin\n",
    "from sklearn.neural_network import MLPClassifier\n",
    "from sklearn.linear_model import LinearRegression\n",
    "from sklearn.metrics import mean_squared_error, r2_score\n",
    "from sklearn.metrics import accuracy_score, precision_score, recall_score, f1_score, roc_auc_score\n",
    "from sklearn.discriminant_analysis import LinearDiscriminantAnalysis\n",
    "\n",
    "# other useful libray\n",
    "import missingno as msno\n",
    "from mpl_toolkits.axes_grid1.inset_locator import mark_inset\n",
    "from mpl_toolkits.axes_grid1.inset_locator import inset_axes\n",
    "from pylab import subplots_adjust\n",
    "import copy\n",
    "import torch\n",
    "import torch.nn as nn\n",
    "import torch.optim as optim"
   ]
  },
  {
   "cell_type": "code",
   "execution_count": 3,
   "metadata": {},
   "outputs": [],
   "source": [
    "# data analysis related library\n",
    "import pandas as pd\n",
    "import numpy as np\n",
    "\n",
    "# some visualization related library\n",
    "import matplotlib.pyplot as plt\n",
    "import matplotlib\n",
    "%matplotlib inline\n",
    "from matplotlib.colors import LogNorm\n",
    "import seaborn as sns\n",
    "\n",
    "# category_encoders and warning related library\n",
    "from warnings import simplefilter\n",
    "simplefilter(action='ignore')\n",
    "import category_encoders\n",
    "\n",
    "# sklearn related ML library\n",
    "from sklearn import metrics\n",
    "from sklearn.metrics import roc_curve, RocCurveDisplay\n",
    "from sklearn.metrics import mean_absolute_error\n",
    "from sklearn.utils import resample\n",
    "from sklearn.preprocessing import LabelEncoder\n",
    "from sklearn.preprocessing import MinMaxScaler\n",
    "from sklearn.tree import DecisionTreeClassifier\n",
    "from sklearn.neighbors import KNeighborsClassifier\n",
    "from sklearn.model_selection import train_test_split\n",
    "from sklearn.model_selection import GridSearchCV\n",
    "from sklearn.model_selection import KFold\n",
    "from sklearn.model_selection import cross_val_score\n",
    "from sklearn import model_selection\n",
    "from sklearn.ensemble import BaggingClassifier\n",
    "from sklearn.ensemble import RandomForestClassifier\n",
    "from sklearn.ensemble import VotingClassifier\n",
    "from sklearn.ensemble import GradientBoostingClassifier\n",
    "from sklearn.linear_model import LogisticRegression\n",
    "from sklearn.naive_bayes import BernoulliNB\n",
    "from sklearn.preprocessing import StandardScaler\n",
    "from sklearn.metrics import auc\n",
    "from sklearn.base import BaseEstimator, ClassifierMixin\n",
    "from sklearn.neural_network import MLPClassifier\n",
    "from sklearn.linear_model import LinearRegression\n",
    "from sklearn.metrics import mean_squared_error, r2_score\n",
    "from sklearn.metrics import accuracy_score, precision_score, recall_score, f1_score, roc_auc_score\n",
    "from sklearn.discriminant_analysis import LinearDiscriminantAnalysis\n",
    "\n",
    "# other useful libray\n",
    "import missingno as msno\n",
    "from mpl_toolkits.axes_grid1.inset_locator import mark_inset\n",
    "from mpl_toolkits.axes_grid1.inset_locator import inset_axes\n",
    "from pylab import subplots_adjust\n",
    "import copy\n",
    "import torch\n",
    "import torch.nn as nn\n",
    "import torch.optim as optim"
   ]
  },
  {
   "cell_type": "markdown",
   "metadata": {
    "id": "Q-BGKh_InrlT"
   },
   "source": [
    "## 1. Read Data"
   ]
  },
  {
   "cell_type": "code",
   "execution_count": 4,
   "metadata": {
    "executionInfo": {
     "elapsed": 7,
     "status": "ok",
     "timestamp": 1738292622407,
     "user": {
      "displayName": "Rin Mo",
      "userId": "08429543951334931283"
     },
     "user_tz": -480
    },
    "id": "NNaf5BnVnuBt"
   },
   "outputs": [],
   "source": [
    "health_data = pd.read_csv(\"framingham.csv\")"
   ]
  },
  {
   "cell_type": "code",
   "execution_count": null,
   "metadata": {
    "colab": {
     "base_uri": "https://localhost:8080/"
    },
    "executionInfo": {
     "elapsed": 7,
     "status": "ok",
     "timestamp": 1738292622408,
     "user": {
      "displayName": "Rin Mo",
      "userId": "08429543951334931283"
     },
     "user_tz": -480
    },
    "id": "WwQGAxZvn1Zi",
    "outputId": "84580978-b953-4969-e472-32c88462d0b5"
   },
   "outputs": [],
   "source": [
    "health_data.info()"
   ]
  },
  {
   "cell_type": "code",
   "execution_count": null,
   "metadata": {
    "colab": {
     "base_uri": "https://localhost:8080/"
    },
    "executionInfo": {
     "elapsed": 6,
     "status": "ok",
     "timestamp": 1738292622408,
     "user": {
      "displayName": "Rin Mo",
      "userId": "08429543951334931283"
     },
     "user_tz": -480
    },
    "id": "DFSWkRJAo1gW",
    "outputId": "4737a966-7a7f-43f2-9a09-587bea9eb113"
   },
   "outputs": [],
   "source": [
    "health_data.shape"
   ]
  },
  {
   "cell_type": "code",
   "execution_count": null,
   "metadata": {
    "colab": {
     "base_uri": "https://localhost:8080/",
     "height": 206
    },
    "executionInfo": {
     "elapsed": 560,
     "status": "ok",
     "timestamp": 1738292622964,
     "user": {
      "displayName": "Rin Mo",
      "userId": "08429543951334931283"
     },
     "user_tz": -480
    },
    "id": "znvbXmygo9zl",
    "outputId": "c9b1575a-bdf1-43ba-a617-da57282cde4b"
   },
   "outputs": [],
   "source": [
    "health_data.head()"
   ]
  },
  {
   "cell_type": "code",
   "execution_count": null,
   "metadata": {
    "colab": {
     "base_uri": "https://localhost:8080/",
     "height": 320
    },
    "executionInfo": {
     "elapsed": 11,
     "status": "ok",
     "timestamp": 1738292622964,
     "user": {
      "displayName": "Rin Mo",
      "userId": "08429543951334931283"
     },
     "user_tz": -480
    },
    "id": "iyjZzb2XpA6I",
    "outputId": "b02ba787-0490-4838-9059-806e00fe7fd4"
   },
   "outputs": [],
   "source": [
    "health_data.describe()"
   ]
  },
  {
   "cell_type": "code",
   "execution_count": null,
   "metadata": {
    "colab": {
     "base_uri": "https://localhost:8080/"
    },
    "executionInfo": {
     "elapsed": 11,
     "status": "ok",
     "timestamp": 1738292622965,
     "user": {
      "displayName": "Rin Mo",
      "userId": "08429543951334931283"
     },
     "user_tz": -480
    },
    "id": "YfGVJalQpG7x",
    "outputId": "9b7767cd-a8c2-410e-9098-146a4305c1e0"
   },
   "outputs": [],
   "source": [
    "health_data.isna().sum().sum()"
   ]
  },
  {
   "cell_type": "code",
   "execution_count": null,
   "metadata": {
    "colab": {
     "base_uri": "https://localhost:8080/",
     "height": 585
    },
    "executionInfo": {
     "elapsed": 9,
     "status": "ok",
     "timestamp": 1738292622965,
     "user": {
      "displayName": "Rin Mo",
      "userId": "08429543951334931283"
     },
     "user_tz": -480
    },
    "id": "9ctQvVFbpZfx",
    "outputId": "4e7a4e01-9059-43b5-d269-ca79a1d14c08"
   },
   "outputs": [],
   "source": [
    "health_data.isnull().sum().sort_values(ascending=False)"
   ]
  },
  {
   "cell_type": "code",
   "execution_count": null,
   "metadata": {
    "colab": {
     "base_uri": "https://localhost:8080/",
     "height": 585
    },
    "executionInfo": {
     "elapsed": 8,
     "status": "ok",
     "timestamp": 1738292622965,
     "user": {
      "displayName": "Rin Mo",
      "userId": "08429543951334931283"
     },
     "user_tz": -480
    },
    "id": "TEsb6hdYpmVs",
    "outputId": "2bf53ebc-3f53-4fc3-ade5-f9cc01925a3a"
   },
   "outputs": [],
   "source": [
    "(health_data.isnull().sum() / health_data.isnull().count()).sort_values(ascending=False)"
   ]
  },
  {
   "cell_type": "code",
   "execution_count": null,
   "metadata": {
    "colab": {
     "base_uri": "https://localhost:8080/",
     "height": 585
    },
    "executionInfo": {
     "elapsed": 1710,
     "status": "ok",
     "timestamp": 1738292624668,
     "user": {
      "displayName": "Rin Mo",
      "userId": "08429543951334931283"
     },
     "user_tz": -480
    },
    "id": "2mVOUUdHpr5q",
    "outputId": "3861c151-a496-476a-9585-c6f836522842"
   },
   "outputs": [],
   "source": [
    "msno.dendrogram(health_data)\n",
    "plt.show()"
   ]
  },
  {
   "cell_type": "code",
   "execution_count": null,
   "metadata": {
    "colab": {
     "base_uri": "https://localhost:8080/",
     "height": 851
    },
    "executionInfo": {
     "elapsed": 1522,
     "status": "ok",
     "timestamp": 1738292626188,
     "user": {
      "displayName": "Rin Mo",
      "userId": "08429543951334931283"
     },
     "user_tz": -480
    },
    "id": "VtYo1h5vpw1y",
    "outputId": "ad831c31-94a2-48f9-9c4a-7d2f49855014"
   },
   "outputs": [],
   "source": [
    "msno.heatmap(health_data)\n",
    "plt.show()"
   ]
  },
  {
   "cell_type": "code",
   "execution_count": null,
   "metadata": {},
   "outputs": [],
   "source": [
    "plt.figure(figsize=(10, 6))\n",
    "msno.matrix(health_data, color=(0.6, 0.2, 0.8))  \n",
    "plt.show()"
   ]
  },
  {
   "cell_type": "code",
   "execution_count": null,
   "metadata": {},
   "outputs": [],
   "source": [
    "import pandas as pd\n",
    "import matplotlib.pyplot as plt\n",
    "\n",
    "missing_counts = health_data.isnull().sum()\n",
    "\n",
    "num_columns = len(missing_counts)\n",
    "half = num_columns // 2\n",
    "cols_part1 = missing_counts[:half]\n",
    "cols_part2 = missing_counts[half:]\n",
    "\n",
    "fig, axes = plt.subplots(1, 2, figsize=(14, 6))  \n",
    "\n",
    "axes[0].barh(cols_part1.index, cols_part1.values, color=(255/255, 151/255, 0/255))\n",
    "#axes[0].set_title(\"Missing Values\")\n",
    "axes[0].set_xlabel(\"Count\")\n",
    "\n",
    "axes[1].barh(cols_part2.index, cols_part2.values, color=(255/255, 151/255, 0/255))\n",
    "#axes[1].set_title(\"Missing Values\")\n",
    "axes[1].set_xlabel(\"Count\")\n",
    "\n",
    "plt.tight_layout()\n",
    "plt.show()\n"
   ]
  },
  {
   "cell_type": "code",
   "execution_count": null,
   "metadata": {
    "colab": {
     "base_uri": "https://localhost:8080/",
     "height": 616
    },
    "executionInfo": {
     "elapsed": 8,
     "status": "ok",
     "timestamp": 1738292626188,
     "user": {
      "displayName": "Rin Mo",
      "userId": "08429543951334931283"
     },
     "user_tz": -480
    },
    "id": "KysffE5xqKsL",
    "outputId": "3878f3b1-dfb9-483e-f962-053cfe365b97"
   },
   "outputs": [],
   "source": [
    "msno.bar(health_data.sample(1000), color=(255/255,151/225,0/255))\n",
    "plt.show()"
   ]
  },
  {
   "cell_type": "markdown",
   "metadata": {
    "id": "9sldXT1wqTjT"
   },
   "source": [
    "## 2. Data Cleaning, Analysis and Featrue Selection"
   ]
  },
  {
   "cell_type": "markdown",
   "metadata": {
    "id": "1iiFocZ7sMh8"
   },
   "source": [
    "### 2.1 Fill Missing Value"
   ]
  },
  {
   "cell_type": "code",
   "execution_count": null,
   "metadata": {
    "colab": {
     "base_uri": "https://localhost:8080/",
     "height": 178
    },
    "executionInfo": {
     "elapsed": 8,
     "status": "ok",
     "timestamp": 1738292626188,
     "user": {
      "displayName": "Rin Mo",
      "userId": "08429543951334931283"
     },
     "user_tz": -480
    },
    "id": "9JUWKehCsIkk",
    "outputId": "368d8c51-3ad6-46f9-dcea-1988d17bac85"
   },
   "outputs": [],
   "source": [
    "health_data.TenYearCHD.value_counts()"
   ]
  },
  {
   "cell_type": "code",
   "execution_count": null,
   "metadata": {
    "colab": {
     "base_uri": "https://localhost:8080/"
    },
    "executionInfo": {
     "elapsed": 7,
     "status": "ok",
     "timestamp": 1738292626188,
     "user": {
      "displayName": "Rin Mo",
      "userId": "08429543951334931283"
     },
     "user_tz": -480
    },
    "id": "u55G8wMdssJ9",
    "outputId": "6e474f3f-8474-44a7-82a4-b3c58e90cf46"
   },
   "outputs": [],
   "source": [
    "# search the numerical features\n",
    "numerical_features = health_data.columns[health_data.dtypes != object]\n",
    "list(numerical_features)"
   ]
  },
  {
   "cell_type": "code",
   "execution_count": null,
   "metadata": {
    "colab": {
     "base_uri": "https://localhost:8080/",
     "height": 1000
    },
    "executionInfo": {
     "elapsed": 7546,
     "status": "ok",
     "timestamp": 1738292633728,
     "user": {
      "displayName": "Rin Mo",
      "userId": "08429543951334931283"
     },
     "user_tz": -480
    },
    "id": "USBK5uWssoew",
    "outputId": "85b6c9a0-8839-460f-80e3-b6ff9a1942e1"
   },
   "outputs": [],
   "source": [
    "num_features = len(health_data.columns)  \n",
    "num_rows = 2  \n",
    "num_cols = (num_features + num_rows - 1) // num_rows  \n",
    "\n",
    "fig, axes = plt.subplots(num_rows, num_cols, figsize=(num_cols * 4, num_rows * 4))\n",
    "\n",
    "axes = axes.flatten()\n",
    "\n",
    "for i, col in enumerate(health_data.columns):\n",
    "    sns.histplot(x=col, data=health_data, ax=axes[i], color=(159/255, 57/255, 222/255))\n",
    "\n",
    "    \n",
    "    axes[i].set_xlabel(col, fontsize=16) \n",
    "    axes[i].set_ylabel(\"Count\", fontsize=16)  \n",
    "\n",
    "plt.tight_layout()\n",
    "plt.show()\n",
    "\n",
    "\n"
   ]
  },
  {
   "cell_type": "code",
   "execution_count": 21,
   "metadata": {
    "executionInfo": {
     "elapsed": 3,
     "status": "ok",
     "timestamp": 1738292633729,
     "user": {
      "displayName": "Rin Mo",
      "userId": "08429543951334931283"
     },
     "user_tz": -480
    },
    "id": "XXR6bIBWuxe-"
   },
   "outputs": [],
   "source": [
    "health_data_filled_with_mean = pd.DataFrame()\n",
    "for col in health_data.columns:\n",
    "    if health_data[col].dtype == 'float64':\n",
    "        health_data_filled_with_mean[col] = health_data[col].fillna(health_data[col].mean())\n",
    "    elif set(health_data[col].dropna().unique()).issubset({0, 1}):\n",
    "        health_data_filled_with_mean[col] = health_data[col].fillna(health_data[col].median())\n",
    "    else:\n",
    "        health_data_filled_with_mean[col] = health_data[col]\n",
    "\n"
   ]
  },
  {
   "cell_type": "code",
   "execution_count": null,
   "metadata": {
    "colab": {
     "base_uri": "https://localhost:8080/",
     "height": 1000
    },
    "executionInfo": {
     "elapsed": 8522,
     "status": "ok",
     "timestamp": 1738292642248,
     "user": {
      "displayName": "Rin Mo",
      "userId": "08429543951334931283"
     },
     "user_tz": -480
    },
    "id": "BJ_ks0_Xfujp",
    "outputId": "91da5096-1956-44fb-cc7c-10952874039f"
   },
   "outputs": [],
   "source": [
    "num_features = len(health_data_filled_with_mean.columns)  \n",
    "num_rows = 2  \n",
    "num_cols = (num_features + num_rows - 1) // num_rows  \n",
    "\n",
    "fig, axes = plt.subplots(num_rows, num_cols, figsize=(num_cols * 4, num_rows * 4))\n",
    "\n",
    "axes = axes.flatten()\n",
    "\n",
    "for i, col in enumerate(health_data_filled_with_mean.columns):\n",
    "    sns.histplot(x=col, data=health_data_filled_with_mean, ax=axes[i], color=(159/255, 57/255, 222/255))\n",
    "\n",
    "    axes[i].set_xlabel(col, fontsize=16)\n",
    "    axes[i].set_ylabel(\"Count\", fontsize=16)\n",
    "\n",
    "    axes[i].tick_params(axis='x', labelsize=14)\n",
    "    axes[i].tick_params(axis='y', labelsize=14)\n",
    "\n",
    "plt.tight_layout()\n",
    "plt.show()"
   ]
  },
  {
   "cell_type": "code",
   "execution_count": null,
   "metadata": {
    "colab": {
     "base_uri": "https://localhost:8080/",
     "height": 589
    },
    "executionInfo": {
     "elapsed": 794,
     "status": "ok",
     "timestamp": 1738292643039,
     "user": {
      "displayName": "Rin Mo",
      "userId": "08429543951334931283"
     },
     "user_tz": -480
    },
    "id": "yTvqFwkAvJyL",
    "outputId": "9b83e77d-dc67-44c0-c657-837fbff8c9b9"
   },
   "outputs": [],
   "source": [
    "msno.matrix(health_data_filled_with_mean,color=(47/255,127/255,255/255))\n",
    "msno.matrix(health_data_filled_with_mean, color=(0.6, 0.2, 0.8))  \n",
    "plt.show()"
   ]
  },
  {
   "cell_type": "code",
   "execution_count": null,
   "metadata": {
    "colab": {
     "base_uri": "https://localhost:8080/",
     "height": 585
    },
    "executionInfo": {
     "elapsed": 8,
     "status": "ok",
     "timestamp": 1738292643039,
     "user": {
      "displayName": "Rin Mo",
      "userId": "08429543951334931283"
     },
     "user_tz": -480
    },
    "id": "xGvyB6HrvNwb",
    "outputId": "87bd5105-706f-430e-8cf5-56a50fdf3abb"
   },
   "outputs": [],
   "source": [
    "health_data_filled_with_mean.isnull().sum().sort_values()"
   ]
  },
  {
   "cell_type": "code",
   "execution_count": null,
   "metadata": {
    "colab": {
     "base_uri": "https://localhost:8080/"
    },
    "executionInfo": {
     "elapsed": 7,
     "status": "ok",
     "timestamp": 1738292643039,
     "user": {
      "displayName": "Rin Mo",
      "userId": "08429543951334931283"
     },
     "user_tz": -480
    },
    "id": "XrTSZqwxiqfe",
    "outputId": "446133bf-5667-4804-ab2e-c7c9479d07c2"
   },
   "outputs": [],
   "source": [
    "health_data_filled_with_mean.info()"
   ]
  },
  {
   "cell_type": "code",
   "execution_count": 26,
   "metadata": {
    "executionInfo": {
     "elapsed": 6,
     "status": "ok",
     "timestamp": 1738292643039,
     "user": {
      "displayName": "Rin Mo",
      "userId": "08429543951334931283"
     },
     "user_tz": -480
    },
    "id": "7EgALn7XkndN"
   },
   "outputs": [],
   "source": [
    "health_data_filled_with_mean['BPMeds'] = health_data_filled_with_mean['BPMeds'].astype('int64')"
   ]
  },
  {
   "cell_type": "code",
   "execution_count": null,
   "metadata": {
    "colab": {
     "base_uri": "https://localhost:8080/"
    },
    "executionInfo": {
     "elapsed": 5,
     "status": "ok",
     "timestamp": 1738292643039,
     "user": {
      "displayName": "Rin Mo",
      "userId": "08429543951334931283"
     },
     "user_tz": -480
    },
    "id": "uTGvP2nHkpBZ",
    "outputId": "c797af62-e606-4574-c48c-0a4dbc4729fa"
   },
   "outputs": [],
   "source": [
    "health_data_filled_with_mean.info()"
   ]
  },
  {
   "cell_type": "markdown",
   "metadata": {
    "id": "Ur0a9O37va3K"
   },
   "source": [
    "### 2.2 Handle outliers"
   ]
  },
  {
   "cell_type": "code",
   "execution_count": null,
   "metadata": {},
   "outputs": [],
   "source": [
    "import matplotlib.pyplot as plt\n",
    "import seaborn as sns\n",
    "\n",
    "plt.rcParams.update({\n",
    "    'font.size': 18,            \n",
    "    'font.weight': 'normal',   \n",
    "    'axes.labelweight': 'normal',\n",
    "    'axes.titleweight': 'normal'\n",
    "})\n",
    "\n",
    "fig = plt.figure(figsize=(35, 40))\n",
    "fig.set_facecolor('white')  \n",
    "\n",
    "index = 1\n",
    "target_col = 'TenYearCHD'\n",
    "\n",
    "box_color = (0/255, 100/255, 200/255)  \n",
    "\n",
    "for k in health_data_filled_with_mean:\n",
    "    if health_data_filled_with_mean[k].dtype == 'float64':\n",
    "        ax = plt.subplot(len(numerical_features), 2, index)\n",
    "        sns.boxplot(\n",
    "            x=health_data_filled_with_mean[target_col].astype(str),  \n",
    "            y=health_data_filled_with_mean[k],\n",
    "            color=box_color  \n",
    "        )\n",
    "\n",
    "        plt.title(f'Box Plot of {k} by {target_col}', fontsize=12, fontweight='normal')\n",
    "        plt.xlabel('TenYearCHD', fontsize=12, fontweight='normal')\n",
    "        plt.ylabel(k, fontsize=12, fontweight='normal')\n",
    "\n",
    "        ax.yaxis.grid(True, linestyle='--', alpha=0.7)\n",
    "\n",
    "        for spine in ax.spines.values():\n",
    "            spine.set_edgecolor('darkblue')  \n",
    "            spine.set_linewidth(2)  \n",
    "            spine.set_linestyle('-')  \n",
    "\n",
    "        ax.spines['top'].set_visible(False)  \n",
    "        ax.spines['right'].set_visible(False)  \n",
    "        ax.spines['left'].set_color('black')  \n",
    "        ax.spines['bottom'].set_color('black')  \n",
    "\n",
    "        index += 1\n",
    "\n",
    "plt.tight_layout()\n",
    "plt.show()\n"
   ]
  },
  {
   "cell_type": "markdown",
   "metadata": {
    "id": "lt2mReemZECE"
   },
   "source": [
    "### 2.2.1 Handle outliers for TenYearCHD = 0"
   ]
  },
  {
   "cell_type": "code",
   "execution_count": 31,
   "metadata": {
    "executionInfo": {
     "elapsed": 3,
     "status": "ok",
     "timestamp": 1738292647617,
     "user": {
      "displayName": "Rin Mo",
      "userId": "08429543951334931283"
     },
     "user_tz": -480
    },
    "id": "V52k9qIIZWu5"
   },
   "outputs": [],
   "source": [
    "group_0 = health_data_filled_with_mean[health_data_filled_with_mean['TenYearCHD'] == 0]"
   ]
  },
  {
   "cell_type": "code",
   "execution_count": null,
   "metadata": {
    "colab": {
     "base_uri": "https://localhost:8080/",
     "height": 370
    },
    "executionInfo": {
     "elapsed": 3868,
     "status": "ok",
     "timestamp": 1738292651483,
     "user": {
      "displayName": "Rin Mo",
      "userId": "08429543951334931283"
     },
     "user_tz": -480
    },
    "id": "lsLtNbG-Zt8K",
    "outputId": "ffb2a6e7-1952-47b0-f6b4-5e2e4188f038"
   },
   "outputs": [],
   "source": [
    "fig = plt.figure(figsize=(35,20))\n",
    "fig.set_facecolor((235/255,235/255,235/255))\n",
    "index = 1\n",
    "for k in group_0:\n",
    "    if group_0[k].dtype=='float64':\n",
    "        plt.subplot(4, 6, index)\n",
    "        sns.boxplot(group_0[k], color=(0/255,219/255,197/255))\n",
    "        index += 1\n",
    "plt.tight_layout()\n",
    "plt.show()"
   ]
  },
  {
   "cell_type": "code",
   "execution_count": 33,
   "metadata": {
    "executionInfo": {
     "elapsed": 3,
     "status": "ok",
     "timestamp": 1738292651483,
     "user": {
      "displayName": "Rin Mo",
      "userId": "08429543951334931283"
     },
     "user_tz": -480
    },
    "id": "vWtno1rodNFI"
   },
   "outputs": [],
   "source": [
    "for col in group_0.columns:\n",
    "    if col != 'TenYearCHD' and group_0[col].dtype == 'float64':\n",
    "        Q1 = group_0[col].quantile(0.25)\n",
    "        Q3 = group_0[col].quantile(0.75)\n",
    "        IQR = Q3 - Q1\n",
    "\n",
    "        lower_bound = Q1 - 1.5 * IQR\n",
    "        upper_bound = Q3 + 1.5 * IQR\n",
    "\n",
    "        group_0[col] = np.where(group_0[col] < lower_bound, lower_bound, group_0[col])\n",
    "        group_0[col] = np.where(group_0[col] > upper_bound, upper_bound, group_0[col])"
   ]
  },
  {
   "cell_type": "code",
   "execution_count": null,
   "metadata": {
    "colab": {
     "base_uri": "https://localhost:8080/",
     "height": 371
    },
    "executionInfo": {
     "elapsed": 2870,
     "status": "ok",
     "timestamp": 1738292654350,
     "user": {
      "displayName": "Rin Mo",
      "userId": "08429543951334931283"
     },
     "user_tz": -480
    },
    "id": "SUKrHBNnda1t",
    "outputId": "bca874f8-891f-4bf4-bce8-315547197360"
   },
   "outputs": [],
   "source": [
    "fig = plt.figure(figsize=(35,20))\n",
    "fig.set_facecolor((235/255,235/255,235/255))\n",
    "index = 1\n",
    "for k in group_0:\n",
    "    if group_0[k].dtype=='float64':\n",
    "        plt.subplot(4, 6, index)\n",
    "        sns.boxplot(group_0[k], color=(0/255,219/255,197/255))\n",
    "        index += 1\n",
    "plt.tight_layout()\n",
    "plt.show()"
   ]
  },
  {
   "cell_type": "markdown",
   "metadata": {
    "id": "rthDJPakby7-"
   },
   "source": [
    "### 2.2.2 For TenYearCHD = 1"
   ]
  },
  {
   "cell_type": "code",
   "execution_count": 35,
   "metadata": {
    "executionInfo": {
     "elapsed": 2,
     "status": "ok",
     "timestamp": 1738292654350,
     "user": {
      "displayName": "Rin Mo",
      "userId": "08429543951334931283"
     },
     "user_tz": -480
    },
    "id": "xyme79sZb4UP"
   },
   "outputs": [],
   "source": [
    "group_1 = health_data_filled_with_mean[health_data_filled_with_mean['TenYearCHD'] == 1]"
   ]
  },
  {
   "cell_type": "code",
   "execution_count": null,
   "metadata": {
    "colab": {
     "base_uri": "https://localhost:8080/",
     "height": 371
    },
    "executionInfo": {
     "elapsed": 3517,
     "status": "ok",
     "timestamp": 1738292657865,
     "user": {
      "displayName": "Rin Mo",
      "userId": "08429543951334931283"
     },
     "user_tz": -480
    },
    "id": "oi_v3PPAb7DC",
    "outputId": "16a72b50-d7ae-451f-a6e6-b864f3e13e01"
   },
   "outputs": [],
   "source": [
    "fig = plt.figure(figsize=(35,20))\n",
    "fig.set_facecolor((235/255,235/255,235/255))\n",
    "index = 1\n",
    "for k in group_1:\n",
    "    if group_1[k].dtype=='float64':\n",
    "        plt.subplot(4, 6, index)\n",
    "        sns.boxplot(group_1[k], color=(0/255,219/255,197/255))\n",
    "        index += 1\n",
    "plt.tight_layout()\n",
    "plt.show()"
   ]
  },
  {
   "cell_type": "code",
   "execution_count": 37,
   "metadata": {
    "executionInfo": {
     "elapsed": 2,
     "status": "ok",
     "timestamp": 1738292657865,
     "user": {
      "displayName": "Rin Mo",
      "userId": "08429543951334931283"
     },
     "user_tz": -480
    },
    "id": "R-OToydMZ3dm"
   },
   "outputs": [],
   "source": [
    "for col in group_1.columns:\n",
    "    if col != 'TenYearCHD' and group_1[col].dtype == 'float64':\n",
    "        Q1 = group_1[col].quantile(0.25)\n",
    "        Q3 = group_1[col].quantile(0.75)\n",
    "        IQR = Q3 - Q1\n",
    "\n",
    "        lower_bound = Q1 - 1.5 * IQR\n",
    "        upper_bound = Q3 + 1.5 * IQR\n",
    "\n",
    "        group_1[col] = np.where(group_1[col] < lower_bound, lower_bound, group_1[col])\n",
    "        group_1[col] = np.where(group_1[col] > upper_bound, upper_bound, group_1[col])"
   ]
  },
  {
   "cell_type": "code",
   "execution_count": null,
   "metadata": {
    "colab": {
     "base_uri": "https://localhost:8080/",
     "height": 370
    },
    "executionInfo": {
     "elapsed": 1685,
     "status": "ok",
     "timestamp": 1738292659548,
     "user": {
      "displayName": "Rin Mo",
      "userId": "08429543951334931283"
     },
     "user_tz": -480
    },
    "id": "lIAuWvm3aOAz",
    "outputId": "a4d988dd-f06f-447a-ed18-03f96e5568aa"
   },
   "outputs": [],
   "source": [
    "fig = plt.figure(figsize=(35,20))\n",
    "fig.set_facecolor((235/255,235/255,235/255))\n",
    "index = 1\n",
    "for k in group_1:\n",
    "    if group_1[k].dtype=='float64':\n",
    "        plt.subplot(4, 6, index)\n",
    "        sns.boxplot(group_1[k], color=(0/255,219/255,197/255))\n",
    "        index += 1\n",
    "plt.tight_layout()\n",
    "plt.show()"
   ]
  },
  {
   "cell_type": "markdown",
   "metadata": {
    "id": "mOvF-_MPmqTj"
   },
   "source": [
    "As the number of 1 is small, we keep all the outliers to let the model learn all the features"
   ]
  },
  {
   "cell_type": "code",
   "execution_count": 39,
   "metadata": {
    "executionInfo": {
     "elapsed": 1,
     "status": "ok",
     "timestamp": 1738292659548,
     "user": {
      "displayName": "Rin Mo",
      "userId": "08429543951334931283"
     },
     "user_tz": -480
    },
    "id": "BwLoY0EknBrl"
   },
   "outputs": [],
   "source": [
    "health_data_filled_with_mean = pd.concat([group_0, group_1])"
   ]
  },
  {
   "cell_type": "markdown",
   "metadata": {
    "id": "V6Ij4Bc5f8Ei"
   },
   "source": [
    "### 2.2.3 Final box plot"
   ]
  },
  {
   "cell_type": "code",
   "execution_count": null,
   "metadata": {},
   "outputs": [],
   "source": [
    "import matplotlib.pyplot as plt\n",
    "import seaborn as sns\n",
    "\n",
    "plt.rcParams.update({\n",
    "    'font.size': 18,            \n",
    "    'font.weight': 'normal',   \n",
    "    'axes.labelweight': 'normal',\n",
    "    'axes.titleweight': 'normal'\n",
    "})\n",
    "\n",
    "fig = plt.figure(figsize=(35, 40))\n",
    "fig.set_facecolor('white')  \n",
    "\n",
    "index = 1\n",
    "target_col = 'TenYearCHD'\n",
    "\n",
    "box_color = (0/255, 100/255, 200/255)  \n",
    "\n",
    "for k in health_data_filled_with_mean:\n",
    "    if health_data_filled_with_mean[k].dtype == 'float64':\n",
    "        ax = plt.subplot(len(numerical_features), 2, index)\n",
    "\n",
    "        sns.boxplot(\n",
    "            x=health_data_filled_with_mean[target_col].astype(str), \n",
    "            y=health_data_filled_with_mean[k],\n",
    "            color=box_color \n",
    "        )\n",
    "\n",
    "\n",
    "        plt.title(f'Box Plot of {k} by {target_col}', fontsize=12, fontweight='normal')\n",
    "        plt.xlabel('TenYearCHD', fontsize=12, fontweight='normal')\n",
    "        plt.ylabel(k, fontsize=12, fontweight='normal')\n",
    "\n",
    "\n",
    "        ax.yaxis.grid(True, linestyle='--', alpha=0.7)\n",
    "\n",
    "\n",
    "        for spine in ax.spines.values():\n",
    "            spine.set_edgecolor('darkblue')  \n",
    "            spine.set_linewidth(2)  \n",
    "            spine.set_linestyle('-')  \n",
    "\n",
    "        ax.spines['top'].set_visible(False)  \n",
    "        ax.spines['right'].set_visible(False)  \n",
    "        ax.spines['left'].set_color('black')  \n",
    "        ax.spines['bottom'].set_color('black')  \n",
    "\n",
    "        index += 1\n",
    "\n",
    "plt.tight_layout()\n",
    "plt.show()\n"
   ]
  },
  {
   "cell_type": "code",
   "execution_count": null,
   "metadata": {
    "colab": {
     "base_uri": "https://localhost:8080/",
     "height": 375
    },
    "executionInfo": {
     "elapsed": 3998,
     "status": "ok",
     "timestamp": 1738292663545,
     "user": {
      "displayName": "Rin Mo",
      "userId": "08429543951334931283"
     },
     "user_tz": -480
    },
    "id": "Mpa-T3wfgFNm",
    "outputId": "2fb1e578-dafb-4ba9-d3fc-65bee43dc45d"
   },
   "outputs": [],
   "source": [
    "import matplotlib.pyplot as plt\n",
    "import seaborn as sns\n",
    "\n",
    "fig = plt.figure(figsize=(35, 40))\n",
    "fig.set_facecolor((235/255, 235/255, 235/255))\n",
    "\n",
    "index = 1\n",
    "target_col = 'TenYearCHD'\n",
    "\n",
    "for k in health_data_filled_with_mean:\n",
    "    if health_data_filled_with_mean[k].dtype == 'float64':\n",
    "        plt.subplot(len(numerical_features), 2, index)\n",
    "        sns.boxplot(\n",
    "            x=health_data_filled_with_mean[target_col].astype(str), \n",
    "            y=health_data_filled_with_mean[k],\n",
    "            palette={'0': (0/255, 219/255, 197/255), '1': (255/255, 99/255, 132/255)}\n",
    "        )\n",
    "        plt.title(f'Box Plot of {k} by {target_col}')\n",
    "        plt.xlabel('TenYearCHD')\n",
    "        plt.ylabel(k)\n",
    "        index += 1\n",
    "\n",
    "plt.tight_layout()\n",
    "plt.show()"
   ]
  },
  {
   "cell_type": "code",
   "execution_count": null,
   "metadata": {},
   "outputs": [],
   "source": [
    "import matplotlib.pyplot as plt\n",
    "import seaborn as sns\n",
    "\n",
    "fig = plt.figure(figsize=(35, 40))\n",
    "fig.set_facecolor((235/255, 235/255, 235/255))\n",
    "\n",
    "index = 1\n",
    "target_col = 'TenYearCHD'\n",
    "\n",
    "for k in health_data_filled_with_mean:\n",
    "    if health_data_filled_with_mean[k].dtype == 'float64':\n",
    "        plt.subplot(len(numerical_features), 2, index)\n",
    "        sns.boxplot(\n",
    "            x=health_data_filled_with_mean[target_col].astype(str),\n",
    "            y=health_data_filled_with_mean[k],\n",
    "            palette={'0': (0/255, 219/255, 197/255), '1': (255/255, 99/255, 132/255)}\n",
    "        )\n",
    "        plt.title(f'Box Plot of {k} by {target_col}', fontsize=20)  \n",
    "        plt.xlabel('TenYearCHD', fontsize=18)  \n",
    "        plt.ylabel(k, fontsize=18)  \n",
    "        plt.xticks(fontsize=16)  \n",
    "        plt.yticks(fontsize=16)  \n",
    "        index += 1\n",
    "\n",
    "plt.tight_layout()\n",
    "plt.show()\n",
    "\n",
    "fig = plt.figure(figsize=(35, 20))\n",
    "fig.set_facecolor((235/255, 235/255, 235/255))\n",
    "index = 1\n",
    "\n",
    "for k in group_0:\n",
    "    if group_0[k].dtype == 'float64':\n",
    "        plt.subplot(4, 6, index)\n",
    "        sns.boxplot(group_0[k], color=(0/255, 219/255, 197/255))\n",
    "        plt.title(f'Box Plot of {k} (TenYearCHD=0)', fontsize=18)\n",
    "        plt.xlabel(k, fontsize=16)\n",
    "        plt.xticks(fontsize=14)\n",
    "        plt.yticks(fontsize=14)\n",
    "        index += 1\n",
    "\n",
    "plt.tight_layout()\n",
    "plt.show()\n",
    "\n",
    "fig = plt.figure(figsize=(35, 20))\n",
    "fig.set_facecolor((235/255, 235/255, 235/255))\n",
    "index = 1\n",
    "\n",
    "for k in group_1:\n",
    "    if group_1[k].dtype == 'float64':\n",
    "        plt.subplot(4, 6, index)\n",
    "        sns.boxplot(group_1[k], color=(255/255, 99/255, 132/255))\n",
    "        plt.title(f'Box Plot of {k} (TenYearCHD=1)', fontsize=18)\n",
    "        plt.xlabel(k, fontsize=16)\n",
    "        plt.xticks(fontsize=14)\n",
    "        plt.yticks(fontsize=14)\n",
    "        index += 1\n",
    "\n",
    "plt.tight_layout()\n",
    "plt.show()\n"
   ]
  },
  {
   "cell_type": "markdown",
   "metadata": {
    "id": "TLyrxSpQnNXj"
   },
   "source": [
    "## 2.4 Visualization and Drop highly-correlated features"
   ]
  },
  {
   "cell_type": "code",
   "execution_count": null,
   "metadata": {
    "colab": {
     "base_uri": "https://localhost:8080/"
    },
    "executionInfo": {
     "elapsed": 3,
     "status": "ok",
     "timestamp": 1738292663545,
     "user": {
      "displayName": "Rin Mo",
      "userId": "08429543951334931283"
     },
     "user_tz": -480
    },
    "id": "-vI9TxT5yyih",
    "outputId": "4aa51ad9-7d6b-483e-831c-b9cf8ae8e776"
   },
   "outputs": [],
   "source": [
    "health_data_filled_with_mean.info()"
   ]
  },
  {
   "cell_type": "code",
   "execution_count": null,
   "metadata": {
    "colab": {
     "base_uri": "https://localhost:8080/",
     "height": 1000
    },
    "executionInfo": {
     "elapsed": 1347,
     "status": "ok",
     "timestamp": 1738292664890,
     "user": {
      "displayName": "Rin Mo",
      "userId": "08429543951334931283"
     },
     "user_tz": -480
    },
    "id": "HlD4YgzszIJO",
    "outputId": "6e31a545-27bb-4ae4-c020-dbadb3313338"
   },
   "outputs": [],
   "source": [
    "corr_matrix = health_data_filled_with_mean.corr()\n",
    "\n",
    "mask = np.triu(np.ones_like(corr_matrix, dtype=bool))\n",
    "\n",
    "plt.figure(figsize=(12, 11))\n",
    "sns.heatmap(corr_matrix, mask=mask, cmap=\"YlGnBu\", annot=True, fmt='.2f')\n",
    "plt.title(\"Correlation Heatmap\")\n",
    "plt.show()"
   ]
  },
  {
   "cell_type": "code",
   "execution_count": null,
   "metadata": {
    "colab": {
     "base_uri": "https://localhost:8080/",
     "height": 694
    },
    "executionInfo": {
     "elapsed": 1329,
     "status": "ok",
     "timestamp": 1738292666215,
     "user": {
      "displayName": "Rin Mo",
      "userId": "08429543951334931283"
     },
     "user_tz": -480
    },
    "id": "VWz7Fq2U1Fb2",
    "outputId": "822f3676-ac58-4484-b3ba-bbb89d7a1140"
   },
   "outputs": [],
   "source": [
    "plt.figure(figsize=(15,15))\n",
    "features_correlation = abs(corr_matrix['TenYearCHD']).sort_values(ascending=False)\n",
    "\n",
    "size = [\n",
    "    features_correlation.iloc[1], features_correlation.iloc[2],\n",
    "    features_correlation.iloc[3], features_correlation.iloc[4],\n",
    "    features_correlation.iloc[5], features_correlation.iloc[6],\n",
    "    features_correlation.iloc[7], features_correlation.iloc[8],\n",
    "    features_correlation.iloc[9], features_correlation.iloc[10],\n",
    "    features_correlation.iloc[11], features_correlation.iloc[12],\n",
    "    features_correlation.iloc[13], features_correlation.iloc[14],\n",
    "    features_correlation.iloc[15],\n",
    "]\n",
    "\n",
    "labels = [\n",
    "    features_correlation.index[1], features_correlation.index[2],\n",
    "    features_correlation.index[3], features_correlation.index[4],\n",
    "    features_correlation.index[5], features_correlation.index[6],\n",
    "    features_correlation.index[7], features_correlation.index[8],\n",
    "    features_correlation.index[9], features_correlation.index[10],\n",
    "    features_correlation.index[11], features_correlation.index[12],\n",
    "    features_correlation.index[13], features_correlation.index[14],\n",
    "    features_correlation.index[15],\n",
    "]\n",
    "\n",
    "explode = [0.1] * 5 + [0] * (len(size) - 5)\n",
    "\n",
    "plt.figure(figsize=(8, 8))\n",
    "plt.pie(size, labels=labels, explode=explode, autopct='%1.2f%%')\n",
    "plt.title('Correlation with TenYearCHD (Top 5 Highlighted)', fontsize=16, fontweight='bold')\n",
    "plt.show()\n",
    "\n"
   ]
  },
  {
   "cell_type": "markdown",
   "metadata": {
    "id": "b-fR_C-d2sDm"
   },
   "source": [
    "CurrentSmoker has a strong correlation with cigsPerDay (approximately 0.77), indicating a significant linear relationship between the two features. Since cigsPerDay is a float feature that captures more granular information about smoking intensity (e.g., the number of cigarettes smoked per day), we propose retaining cigsPerDay as the primary smoking-related feature and removing CurrentSmoker to reduce feature redundancy.\n",
    "\n",
    "Also, we think that diaBP and sysBP can presents better than int64 feature prevalentHyp."
   ]
  },
  {
   "cell_type": "code",
   "execution_count": 45,
   "metadata": {
    "executionInfo": {
     "elapsed": 5,
     "status": "ok",
     "timestamp": 1738292666215,
     "user": {
      "displayName": "Rin Mo",
      "userId": "08429543951334931283"
     },
     "user_tz": -480
    },
    "id": "4JoZrIhG3LbY"
   },
   "outputs": [],
   "source": [
    "health_data_filled_with_mean_cleaned = health_data_filled_with_mean.drop('currentSmoker', axis=1)\n",
    "health_data_filled_with_mean_cleaned = health_data_filled_with_mean_cleaned.drop('prevalentHyp', axis=1)"
   ]
  },
  {
   "cell_type": "code",
   "execution_count": null,
   "metadata": {
    "colab": {
     "base_uri": "https://localhost:8080/",
     "height": 1000
    },
    "executionInfo": {
     "elapsed": 5,
     "status": "ok",
     "timestamp": 1738292666215,
     "user": {
      "displayName": "Rin Mo",
      "userId": "08429543951334931283"
     },
     "user_tz": -480
    },
    "id": "sQlIQQDS4R3O",
    "outputId": "89f8b546-9581-4cbe-a3ec-f4326f0d7ac9"
   },
   "outputs": [],
   "source": [
    "corr_matrix = health_data_filled_with_mean_cleaned.corr()\n",
    "\n",
    "mask = np.triu(np.ones_like(corr_matrix, dtype=bool))\n",
    "\n",
    "plt.figure(figsize=(12, 11))\n",
    "sns.heatmap(corr_matrix, mask=mask, cmap=\"YlGnBu\", annot=True, fmt='.2f')\n",
    "plt.title(\"Correlation Heatmap\")\n",
    "plt.show()"
   ]
  },
  {
   "cell_type": "code",
   "execution_count": null,
   "metadata": {
    "colab": {
     "base_uri": "https://localhost:8080/"
    },
    "executionInfo": {
     "elapsed": 4,
     "status": "ok",
     "timestamp": 1738292666215,
     "user": {
      "displayName": "Rin Mo",
      "userId": "08429543951334931283"
     },
     "user_tz": -480
    },
    "id": "lNjf9JrA4bUW",
    "outputId": "22257c2c-b2b3-458a-d25b-8bedec034ea9"
   },
   "outputs": [],
   "source": [
    "health_data_filled_with_mean_cleaned.info()"
   ]
  },
  {
   "cell_type": "markdown",
   "metadata": {
    "id": "34FXZzX54qLu"
   },
   "source": [
    "### 2.5 Excute Balance and Scale"
   ]
  },
  {
   "cell_type": "code",
   "execution_count": 68,
   "metadata": {},
   "outputs": [],
   "source": [
    "from sklearn.manifold import TSNE\n",
    "from sklearn.decomposition import PCA\n",
    "import matplotlib.pyplot as plt\n",
    "import seaborn as sns\n",
    "import numpy as np\n",
    "from matplotlib.patches import FancyArrowPatch\n",
    "from sklearn.preprocessing import StandardScaler\n",
    "from sklearn.model_selection import train_test_split\n",
    "from imblearn.over_sampling import SMOTE\n",
    "import pandas as pd\n",
    "\n",
    "X = health_data_filled_with_mean_cleaned.drop(columns=['TenYearCHD'])\n",
    "y = health_data_filled_with_mean_cleaned['TenYearCHD']\n",
    "\n",
    "x_train, x_test, y_train, y_test = train_test_split(\n",
    "    X, y, test_size=0.2, random_state=42, stratify=y\n",
    ")\n",
    "\n",
    "smote = SMOTE(random_state=42)\n",
    "x_train_upsampled, y_train_upsampled = smote.fit_resample(x_train, y_train)\n",
    "\n",
    "scaler = StandardScaler()\n",
    "x_train_scaled = scaler.fit_transform(x_train_upsampled)\n",
    "x_train_scaled = pd.DataFrame(x_train_scaled, columns=x_train_upsampled.columns)\n",
    "x_test_scaled = scaler.transform(x_test)\n",
    "x_train_scaled = x_train_scaled.drop(columns=['gender', 'education'], errors='ignore')\n",
    "x_test_scaled = pd.DataFrame(x_test_scaled, columns=x_test.columns)  \n",
    "x_test_scaled = x_test_scaled.drop(columns=['gender', 'education'], errors='ignore')"
   ]
  },
  {
   "cell_type": "markdown",
   "metadata": {},
   "source": [
    "# tsne pca"
   ]
  },
  {
   "cell_type": "code",
   "execution_count": null,
   "metadata": {},
   "outputs": [],
   "source": [
    "import numpy as np\n",
    "import matplotlib.pyplot as plt\n",
    "import seaborn as sns\n",
    "from sklearn.manifold import TSNE\n",
    "from sklearn.decomposition import PCA\n",
    "from matplotlib.patches import FancyArrowPatch\n",
    "from matplotlib.gridspec import GridSpec\n",
    "import random\n",
    "\n",
    "tsne = TSNE(n_components=2, random_state=42, perplexity=50, learning_rate='auto', n_iter=1000)\n",
    "tsne_results = tsne.fit_transform(x_train_scaled)\n",
    "\n",
    "fig, axes = plt.subplots(1, 2, figsize=(16, 6)) \n",
    "\n",
    "sns.scatterplot(ax=axes[0], x=tsne_results[:, 0], y=tsne_results[:, 1], hue=y_train_upsampled, \n",
    "                palette=\"coolwarm\", alpha=0.7, s=30)\n",
    "axes[0].set_xlabel(\"t-SNE Component 1\", fontsize=12)\n",
    "axes[0].set_ylabel(\"t-SNE Component 2\", fontsize=12)\n",
    "axes[0].legend(title=\"TenYearCHD\", fontsize=10, title_fontsize=11, loc='upper left',\n",
    "                        markerscale=0.7, bbox_to_anchor=(0, 1))\n",
    "#axes[0].set_title(\"t-SNE Visualization of CHD Data\")\n",
    "\n",
    "pca = PCA(n_components=2)\n",
    "pca_2d = pca.fit_transform(x_train_scaled)\n",
    "pca_components = PCA(n_components=2).fit(x_train_scaled)\n",
    "\n",
    "cmap = plt.cm.plasma  \n",
    "\n",
    "def draw_arrow(ax, start, end, color):\n",
    "    arrow = FancyArrowPatch(posA=start, posB=end, arrowstyle='->',\n",
    "                            color=color, linewidth=1.5, mutation_scale=15)\n",
    "    ax.add_artist(arrow)\n",
    "\n",
    "arrow_lengths = np.sqrt(np.sum(pca_components.components_**2, axis=0))\n",
    "max_arrow_length = np.max(arrow_lengths)\n",
    "scaling_factor = 0.9 / max_arrow_length  \n",
    "\n",
    "contributions = np.sqrt(np.sum(pca_components.components_**2, axis=0))\n",
    "contribution_normalized = 20 * (contributions - np.min(contributions)) / (np.max(contributions) - np.min(contributions))\n",
    "\n",
    "jitter = lambda: random.uniform(-0.05, 0.05)  \n",
    "\n",
    "\n",
    "for i, feature in enumerate(x_train_scaled.columns):\n",
    "    contribution = contribution_normalized[i]\n",
    "    scaled_x = pca_components.components_[0, i] * scaling_factor\n",
    "    scaled_y = pca_components.components_[1, i] * scaling_factor\n",
    "    color = cmap(contribution / 25)  \n",
    "    draw_arrow(axes[1], (0, 0), (scaled_x, scaled_y), color=color)\n",
    "    \n",
    "    offset_x = -0.1 * np.sign(scaled_x) if abs(scaled_x) < 0.3 else -0.08 * np.sign(scaled_x)\n",
    "    offset_y = -0.1 * np.sign(scaled_y) if abs(scaled_y) < 0.3 else -0.08 * np.sign(scaled_y)\n",
    "    \n",
    "    if abs(scaled_x) < 0.2 and abs(scaled_y) < 0.2:\n",
    "        offset_x *= 2  \n",
    "        offset_y *= 2\n",
    "    \n",
    "    offset_x += jitter()\n",
    "    offset_y += jitter()\n",
    "\n",
    "    axes[1].text(scaled_x * 1.15 + offset_x, scaled_y * 1.15 + offset_y, feature,\n",
    "                 color=color, fontsize=12, ha='center', va='center', fontweight='medium', zorder=10)\n",
    "\n",
    "    #offset_x = -0.08 * np.sign(scaled_x)\n",
    "    #offset_y = -0.08 * np.sign(scaled_y)\n",
    "    #axes[1].text(scaled_x * 1.15 + offset_x, scaled_y * 1.15 + offset_y, feature,\n",
    "                 #color=color, fontsize=12, ha='center', va='center', fontweight='medium', zorder=10)\n",
    "\n",
    "\n",
    "\n",
    "axes[1].set_xlabel(f'Dim1 ({pca.explained_variance_ratio_[0] * 100:.1f}%)', fontsize=12)\n",
    "axes[1].set_ylabel(f'Dim2 ({pca.explained_variance_ratio_[1] * 100:.1f}%)', fontsize=12)\n",
    "#axes[1].set_title(\"PCA Biplot of Feature Contributions\")\n",
    "axes[1].grid(True, linestyle='--', linewidth=0.6, alpha=0.7)\n",
    "axes[1].axhline(0, color='black', linestyle='--', linewidth=0.6)\n",
    "axes[1].axvline(0, color='black', linestyle='--', linewidth=0.6)\n",
    "axes[1].add_patch(plt.Circle((0, 0), 1, color='black', fill=False, linestyle='--', linewidth=0.6))\n",
    "axes[1].set_aspect('equal', adjustable='datalim')\n",
    "\n",
    "plt.grid(True, color='lightgray', linestyle='-', linewidth=0.5)\n",
    "sm = plt.cm.ScalarMappable(cmap=cmap, norm=plt.Normalize(vmin=0, vmax=20))\n",
    "sm.set_array([])\n",
    "cbar = plt.colorbar(sm, ax=plt.gca(), orientation='vertical', fraction=0.03, pad=0.04)\n",
    "cbar.set_label('contrib', fontsize=9)\n",
    "cbar.ax.tick_params(labelsize=10) \n",
    "\n",
    "axes[0].tick_params(axis='both', labelsize=9)  \n",
    "axes[1].tick_params(axis='both', labelsize=9)  \n",
    "\n",
    "axes[0].set_xlim(-60, 60)\n",
    "axes[0].set_ylim(-60, 60)\n",
    "axes[1].set_xlim(-1, 1)\n",
    "axes[1].set_ylim(-1, 1)\n",
    "\n",
    "plt.tight_layout()\n",
    "plt.show()\n"
   ]
  }
 ],
 "metadata": {
  "colab": {
   "provenance": [
    {
     "file_id": "1215nhzq8L2OWDsNpdeUs6YuAJvtJ8FvW",
     "timestamp": 1738140756638
    },
    {
     "file_id": "1x4BU6XFD-KPlwj_37ftgbXLVoDWwOMeH",
     "timestamp": 1737777917385
    }
   ],
   "toc_visible": true
  },
  "kernelspec": {
   "display_name": "myenv",
   "language": "python",
   "name": "python3"
  },
  "language_info": {
   "codemirror_mode": {
    "name": "ipython",
    "version": 3
   },
   "file_extension": ".py",
   "mimetype": "text/x-python",
   "name": "python",
   "nbconvert_exporter": "python",
   "pygments_lexer": "ipython3",
   "version": "3.13.1"
  }
 },
 "nbformat": 4,
 "nbformat_minor": 0
}
